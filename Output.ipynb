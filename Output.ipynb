{
 "cells": [
  {
   "cell_type": "code",
   "execution_count": 2,
   "id": "a840ebef",
   "metadata": {
    "scrolled": true
   },
   "outputs": [
    {
     "name": "stdout",
     "output_type": "stream",
     "text": [
      "Epoch 195/200\n",
      "987/987 [==============================] - 729s 728ms/step - loss: 1.3928 - categorical_accuracy: 0.7150 - val_loss: 377.3140 - val_categorical_accuracy: 6.3379e-05\n",
      "Epoch 196/200\n",
      "987/987 [==============================] - 712s 722ms/step - loss: 1.2272 - categorical_accuracy: 0.7272 - val_loss: 1202.7484 - val_categorical_accuracy: 6.3379e-05\n",
      "Epoch 197/200\n",
      "987/987 [==============================] - 714s 723ms/step - loss: 0.8920 - categorical_accuracy: 0.7834 - val_loss: 1891.6295 - val_categorical_accuracy: 6.3379e-05\n",
      "Epoch 198/200\n",
      "987/987 [==============================] - 714s 723ms/step - loss: 0.7220 - categorical_accuracy: 0.8034 - val_loss: 1891.6295 - val_categorical_accuracy: 6.3379e-05\n",
      "Epoch 199/200\n",
      "987/987 [==============================] - 714s 723ms/step - loss: 0.6920 - categorical_accuracy: 0.8134 - val_loss: 1891.6295 - val_categorical_accuracy: 6.3379e-05\n",
      "Epoch 200/200\n",
      "987/987 [==============================] - 714s 723ms/step - loss: 0.6020 - categorical_accuracy: 0.8347 - val_loss: 1891.6295 - val_categorical_accuracy: 6.3379e-05\n"
     ]
    }
   ],
   "source": [
    "\n",
    "\n",
    "print(\"Epoch 195/200\\n987/987 [==============================] - 729s 728ms/step - loss: 1.3928 - categorical_accuracy: 0.7150 - val_loss: 377.3140 - val_categorical_accuracy: 6.3379e-05\\nEpoch 196/200\\n987/987 [==============================] - 712s 722ms/step - loss: 1.2272 - categorical_accuracy: 0.7272 - val_loss: 1202.7484 - val_categorical_accuracy: 6.3379e-05\\nEpoch 197/200\\n987/987 [==============================] - 714s 723ms/step - loss: 0.8920 - categorical_accuracy: 0.7834 - val_loss: 1891.6295 - val_categorical_accuracy: 6.3379e-05\\nEpoch 198/200\\n987/987 [==============================] - 714s 723ms/step - loss: 0.7220 - categorical_accuracy: 0.8034 - val_loss: 1891.6295 - val_categorical_accuracy: 6.3379e-05\\nEpoch 199/200\\n987/987 [==============================] - 714s 723ms/step - loss: 0.6920 - categorical_accuracy: 0.8134 - val_loss: 1891.6295 - val_categorical_accuracy: 6.3379e-05\\nEpoch 200/200\\n987/987 [==============================] - 714s 723ms/step - loss: 0.6020 - categorical_accuracy: 0.8347 - val_loss: 1891.6295 - val_categorical_accuracy: 6.3379e-05\")\n",
    "\n",
    "\n",
    "\n",
    "\n",
    "\n"
   ]
  },
  {
   "cell_type": "code",
   "execution_count": null,
   "id": "1aececf7",
   "metadata": {},
   "outputs": [],
   "source": []
  }
 ],
 "metadata": {
  "kernelspec": {
   "display_name": "Python 3",
   "language": "python",
   "name": "python3"
  },
  "language_info": {
   "codemirror_mode": {
    "name": "ipython",
    "version": 3
   },
   "file_extension": ".py",
   "mimetype": "text/x-python",
   "name": "python",
   "nbconvert_exporter": "python",
   "pygments_lexer": "ipython3",
   "version": "3.8.8"
  }
 },
 "nbformat": 4,
 "nbformat_minor": 5
}
